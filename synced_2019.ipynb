{
 "cells": [
  {
   "cell_type": "code",
   "execution_count": 1,
   "metadata": {
    "colab": {},
    "colab_type": "code",
    "id": "_kPNP76bOBAj"
   },
   "outputs": [
    {
     "name": "stderr",
     "output_type": "stream",
     "text": [
      "/anaconda3/lib/python3.6/site-packages/h5py/__init__.py:36: FutureWarning: Conversion of the second argument of issubdtype from `float` to `np.floating` is deprecated. In future, it will be treated as `np.float64 == np.dtype(float).type`.\n",
      "  from ._conv import register_converters as _register_converters\n"
     ]
    }
   ],
   "source": [
    "# -*- coding: utf-8 -*-\n",
    "import tensorflow as tf\n",
    "import numpy as np\n",
    "import tensorflow.contrib.slim as slim\n",
    "import urllib.request"
   ]
  },
  {
   "cell_type": "code",
   "execution_count": 2,
   "metadata": {},
   "outputs": [],
   "source": [
    "OUTPUT_NODE = 36\n",
    "IMAGE_SIZE = 200\n",
    "NUM_CHANNELS = 1\n",
    "CONV1_SIZE = 2\n",
    "CONV2_SIZE = 3\n",
    "FC_SIZE = 512\n",
    "\n",
    "w = 0.18596268\n",
    "\n",
    "W = np.array([[42., 18.5, -19.33333333, -4., -10.6, -22.66666667],\n",
    "               [2., 29.5, 3.66666667, -22., -7.6, -12.],\n",
    "               [67., 30.5, 3.66666667, -5., -23.6, -13.66666667],\n",
    "               [67., 20., 6.33333333, -3.75, -8., -10.66666667],\n",
    "               [81., 25., -19.33333333, 0.25, -9.8, -10.83333333],\n",
    "               [86., 20.5, 8., -5., -10.6, -9.83333333]]).astype(np.float32)"
   ]
  },
  {
   "cell_type": "code",
   "execution_count": 3,
   "metadata": {},
   "outputs": [],
   "source": [
    "def inference(input_tensor):\n",
    "    with tf.variable_scope('layer1-conv1'):\n",
    "        conv1_weights = tf.get_variable('weight', [CONV1_SIZE, CONV1_SIZE, 1, 1],\n",
    "                                        initializer=tf.constant_initializer(W[0:2, 0:2]))\n",
    "        conv1_biases = tf.get_variable('bias', [1], initializer=tf.constant_initializer(0.0))\n",
    "        conv1 = tf.nn.conv2d(input_tensor, conv1_weights, strides=[1, 1, 1, 1], padding='SAME')\n",
    "        relu1 = tf.nn.sigmoid(tf.nn.bias_add(conv1, conv1_biases))\n",
    "\n",
    "    with tf.name_scope('layer2-pool1'):\n",
    "        pool1 = tf.nn.max_pool(relu1, ksize=[1, 2, 2, 1], strides=[1, 2, 2, 1], padding='SAME')\n",
    "\n",
    "    with tf.variable_scope('layer3-conv2'):\n",
    "        conv2_weights = tf.get_variable('weight', [CONV2_SIZE, CONV2_SIZE, 1, 1],\n",
    "                                        initializer=tf.constant_initializer(W[0:3, 0:3]))\n",
    "        conv2_biases = tf.get_variable('bias', [1], initializer=tf.constant_initializer(0.0))\n",
    "        conv2 = tf.nn.conv2d(pool1, conv2_weights, strides=[1, 1, 1, 1], padding='SAME')\n",
    "        relu2 = tf.nn.sigmoid(tf.nn.bias_add(conv2, conv2_biases))\n",
    "\n",
    "    with tf.name_scope('layer4-pool2'):\n",
    "        pool2 = tf.nn.max_pool(relu2, ksize=[1, 2, 2, 1], strides=[1, 2, 2, 1], padding='SAME')\n",
    "\n",
    "    with slim.arg_scope([slim.conv2d, slim.max_pool2d, slim.avg_pool2d], activation_fn=tf.nn.sigmoid, stride=1, padding='SAME'):\n",
    "        with tf.variable_scope('layer5-Inception_v3-Module'):\n",
    "            with tf.variable_scope('Branch_0'):\n",
    "                branch_0 = slim.conv2d(pool2, 1, [1, 1],\n",
    "                                       weights_initializer=tf.constant_initializer(W[3:4, 3:4]), scope='Ince_0')\n",
    "            with tf.variable_scope('Branch_1'):\n",
    "                branch_1 = slim.conv2d(pool2, 1, [1, 1],\n",
    "                                       weights_initializer=tf.constant_initializer(W[4:5, 4:5]), scope='Ince_1_1')\n",
    "                branch_1 = tf.concat([slim.conv2d(branch_1, 32, [1, 3],\n",
    "                                                     weights_initializer=tf.constant_initializer(W[3:4, 1:4]), scope='Ince_1_2a'),\n",
    "                                         slim.conv2d(branch_1, 32, [3, 1],\n",
    "                                                     weights_initializer=tf.constant_initializer(W[1:4, 3:4]), scope='Ince_1_2b')], 3)\n",
    "            with tf.variable_scope('Branch_2'):\n",
    "                branch_2 = slim.conv2d(pool2, 1, [1, 1],\n",
    "                                       weights_initializer=tf.constant_initializer(W[4:5, 4:5]), scope='Ince_2_1')\n",
    "                branch_2 = slim.conv2d(branch_2, 1, [3, 3],\n",
    "                                       weights_initializer=tf.constant_initializer(W[0:3, 0:3]), scope='Ince_2_2')\n",
    "                branch_2 = tf.concat([slim.conv2d(branch_2, 1, [1, 3],\n",
    "                                                     weights_initializer=tf.constant_initializer(W[0:1, 0:3]), scope='Ince_2_3a'),\n",
    "                                         slim.conv2d(branch_2, 1, [3, 1],\n",
    "                                                     weights_initializer=tf.constant_initializer(W[0:3, 0:1]), scope='Ince_2_3b')], 3)\n",
    "            with tf.variable_scope('Branch_3'):\n",
    "                # branch_3 = slim.avg_pool2d(pool2, [3, 3],scope='Ince_3_1')\n",
    "                branch_3 = slim.conv2d(pool2, 1, [1, 1],\n",
    "                                       weights_initializer=tf.constant_initializer(W[4:5, 4:5]), scope='Ince_3_2')\n",
    "            inception = tf.concat([branch_0, branch_1, branch_2, branch_3], 3)\n",
    "\n",
    "    inception_shape = inception.get_shape().as_list()\n",
    "    nodes = inception_shape[1] * inception_shape[2] * inception_shape[3]\n",
    "    reshaped = tf.reshape(inception, [1, nodes])\n",
    "\n",
    "    with tf.variable_scope('layer6-fc1'):\n",
    "        fc1_weights = tf.get_variable('weight', [nodes, FC_SIZE],\n",
    "                                      initializer=tf.truncated_normal_initializer(stddev=3, seed=3), trainable=False)\n",
    "        fc1_biases = tf.get_variable('bias', [FC_SIZE], initializer=tf.constant_initializer(-10.0))\n",
    "        fc1 = tf.nn.relu(tf.matmul(reshaped, fc1_weights) + fc1_biases)\n",
    "\n",
    "    with tf.variable_scope('layer7-fc2'):\n",
    "        fc2_weights = tf.get_variable('weight', [FC_SIZE, OUTPUT_NODE],\n",
    "                                      initializer=tf.constant_initializer(0.0001))\n",
    "        fc2_biases = tf.get_variable('bias', [OUTPUT_NODE], initializer=tf.constant_initializer(-11.0))\n",
    "        secret = tf.matmul(fc1, fc2_weights) + fc2_biases\n",
    "    return secret"
   ]
  },
  {
   "cell_type": "code",
   "execution_count": 4,
   "metadata": {},
   "outputs": [],
   "source": [
    "def synced(image):\n",
    "    img_data = tf.image.decode_jpeg(image)\n",
    "    resized = tf.image.resize_images(img_data, [IMAGE_SIZE, IMAGE_SIZE], method=1)\n",
    "    img_gray = tf.reshape(tf.image.rgb_to_grayscale(resized), [1, IMAGE_SIZE, IMAGE_SIZE, 1])\n",
    "    img_norm = tf.cast(img_gray/128-1, dtype=tf.float32)\n",
    "    y_hat = tf.reshape(inference(img_norm), [6, 6]) - w\n",
    "    y_norm = tf.matmul(W+30.001, y_hat + tf.cast(tf.diag([1, 2, 3, 4, 5, 6]), dtype=tf.float32))\n",
    "    y_int = tf.reshape(tf.cast(y_norm, dtype=tf.int16), [1, 36])\n",
    "    c = []\n",
    "    with tf.Session() as sess:\n",
    "        sess.run(tf.global_variables_initializer())\n",
    "        y = sess.run(y_int)\n",
    "        for i in range(OUTPUT_NODE):\n",
    "            c.append(chr(abs(y[0][i])))\n",
    "        print(\"\".join(c))"
   ]
  },
  {
   "cell_type": "code",
   "execution_count": 5,
   "metadata": {},
   "outputs": [
    {
     "name": "stdout",
     "output_type": "stream",
     "text": [
      "Ha ha, we played badminton yesterday\n"
     ]
    }
   ],
   "source": [
    "urllib.request.urlretrieve(\n",
    "    'https://horatio-jsy-1258160473.cos.ap-beijing.myqcloud.com/synced_2019.jpg',\n",
    "    './Synced_2019.jpg')\n",
    "img_raw = tf.gfile.GFile(\"./Synced_2019.jpg\", \"rb\").read()\n",
    "synced(img_raw)"
   ]
  },
  {
   "cell_type": "code",
   "execution_count": 6,
   "metadata": {},
   "outputs": [
    {
     "ename": "AttributeError",
     "evalue": "module '__main__' has no attribute 'main'",
     "output_type": "error",
     "traceback": [
      "\u001b[0;31m---------------------------------------------------------------------------\u001b[0m",
      "\u001b[0;31mAttributeError\u001b[0m                            Traceback (most recent call last)",
      "\u001b[0;32m<ipython-input-6-d10a9cf14e41>\u001b[0m in \u001b[0;36m<module>\u001b[0;34m()\u001b[0m\n\u001b[0;32m----> 1\u001b[0;31m \u001b[0mtf\u001b[0m\u001b[0;34m.\u001b[0m\u001b[0mapp\u001b[0m\u001b[0;34m.\u001b[0m\u001b[0mrun\u001b[0m\u001b[0;34m(\u001b[0m\u001b[0;34m)\u001b[0m\u001b[0;34m\u001b[0m\u001b[0m\n\u001b[0m",
      "\u001b[0;32m/anaconda3/lib/python3.6/site-packages/tensorflow/python/platform/app.py\u001b[0m in \u001b[0;36mrun\u001b[0;34m(main, argv)\u001b[0m\n\u001b[1;32m    120\u001b[0m   \u001b[0margv\u001b[0m \u001b[0;34m=\u001b[0m \u001b[0mflags\u001b[0m\u001b[0;34m.\u001b[0m\u001b[0mFLAGS\u001b[0m\u001b[0;34m(\u001b[0m\u001b[0m_sys\u001b[0m\u001b[0;34m.\u001b[0m\u001b[0margv\u001b[0m \u001b[0;32mif\u001b[0m \u001b[0margv\u001b[0m \u001b[0;32mis\u001b[0m \u001b[0;32mNone\u001b[0m \u001b[0;32melse\u001b[0m \u001b[0margv\u001b[0m\u001b[0;34m,\u001b[0m \u001b[0mknown_only\u001b[0m\u001b[0;34m=\u001b[0m\u001b[0;32mTrue\u001b[0m\u001b[0;34m)\u001b[0m\u001b[0;34m\u001b[0m\u001b[0m\n\u001b[1;32m    121\u001b[0m \u001b[0;34m\u001b[0m\u001b[0m\n\u001b[0;32m--> 122\u001b[0;31m   \u001b[0mmain\u001b[0m \u001b[0;34m=\u001b[0m \u001b[0mmain\u001b[0m \u001b[0;32mor\u001b[0m \u001b[0m_sys\u001b[0m\u001b[0;34m.\u001b[0m\u001b[0mmodules\u001b[0m\u001b[0;34m[\u001b[0m\u001b[0;34m'__main__'\u001b[0m\u001b[0;34m]\u001b[0m\u001b[0;34m.\u001b[0m\u001b[0mmain\u001b[0m\u001b[0;34m\u001b[0m\u001b[0m\n\u001b[0m\u001b[1;32m    123\u001b[0m \u001b[0;34m\u001b[0m\u001b[0m\n\u001b[1;32m    124\u001b[0m   \u001b[0;31m# Call the main function, passing through any arguments\u001b[0m\u001b[0;34m\u001b[0m\u001b[0;34m\u001b[0m\u001b[0m\n",
      "\u001b[0;31mAttributeError\u001b[0m: module '__main__' has no attribute 'main'"
     ]
    }
   ],
   "source": []
  }
 ],
 "metadata": {
  "colab": {
   "collapsed_sections": [],
   "name": "synced_2019.ipynb",
   "provenance": [],
   "version": "0.3.2"
  },
  "kernelspec": {
   "display_name": "Python 3",
   "language": "python",
   "name": "python3"
  },
  "language_info": {
   "codemirror_mode": {
    "name": "ipython",
    "version": 3
   },
   "file_extension": ".py",
   "mimetype": "text/x-python",
   "name": "python",
   "nbconvert_exporter": "python",
   "pygments_lexer": "ipython3",
   "version": "3.6.4"
  }
 },
 "nbformat": 4,
 "nbformat_minor": 1
}
